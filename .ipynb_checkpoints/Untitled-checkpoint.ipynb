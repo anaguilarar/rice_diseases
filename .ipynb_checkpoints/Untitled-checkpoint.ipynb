{
 "cells": [
  {
   "cell_type": "code",
   "execution_count": 1,
   "metadata": {},
   "outputs": [],
   "source": [
    "import xarray as xr\n",
    "import pandas as pd\n",
    "import numpy as np\n",
    "import matplotlib.pyplot as plt\n",
    "import os\n",
    "import re\n",
    "import itertools\n",
    "import rasterio\n",
    "from rasterio.warp import transform\n",
    "import affine\n"
   ]
  },
  {
   "cell_type": "code",
   "execution_count": 16,
   "metadata": {},
   "outputs": [],
   "source": [
    "def find_file(category, num_times, img, date, pixels, input_source):\n",
    "    \n",
    "    filter_sentence = r'^' + '.*t_' + str(num_times) + '.*.nc$'\n",
    "    products_list = list(filter(re.compile(filter_sentence).search, os.listdir(os.path.join(input_source,category))))\n",
    "\n",
    "    for i, product in enumerate(products_list):\n",
    "        pos = product.index('pxl_')\n",
    "        posend = product.index('_t')\n",
    "        pixelnumber = int(product[pos+4:posend])\n",
    "        if pixelnumber < pixels:\n",
    "            products_list.remove(products_list[i])\n",
    "    data_xa = [xr.open_dataset(os.path.join(input_source,category,product)) for product in products_list]\n",
    "\n",
    "    for i, product in enumerate(products_list):\n",
    "        data_xa[i].attrs['name_region'] = product\n",
    "        \n",
    "\n",
    "    \n",
    "    return data_xa[img].isel(time = date).drop('time')"
   ]
  },
  {
   "cell_type": "markdown",
   "metadata": {},
   "source": [
    "## Select images to read"
   ]
  },
  {
   "cell_type": "code",
   "execution_count": 17,
   "metadata": {},
   "outputs": [
    {
     "name": "stdout",
     "output_type": "stream",
     "text": [
      "t_2_pxl_1804_tol_sald__mango 1_2017.nc\n",
      "t_2_pxl_65_tol_sald_el cauca_el cauca_2017.nc\n",
      "t_2_pxl_156_tol_puri_platonal_parc 1_2017.nc\n",
      "t_4_pxl_176_tol_leri_iguacitos_mira florez_2017.nc\n",
      "t_2_pxl_120_tol_puri__el coco_2016.nc\n",
      "t_2_pxl_144_tol_sald_las malbinas__2017.nc\n",
      "t_2_pxl_272_tol_sald_el porvenir__2016.nc\n",
      "t_2_pxl_130_tol_puri__el monte_2016.nc\n",
      "t_2_pxl_4087_tol_espi_esparta_esparta_2016.nc\n",
      "t_2_pxl_2331_tol_arme_las margarita_lote 5_2016.nc\n",
      "t_2_pxl_72_tol_amba_brisas_lomas y comejen_2016.nc\n",
      "t_2_pxl_3120_tol_guam_esquinero_esquinero_2016.nc\n",
      "t_2_pxl_780_tol_amba_santuario_boba a _2016.nc\n",
      "t_3_pxl_1650_tol_alva_buaria_bais 2 b_2017.nc\n"
     ]
    }
   ],
   "source": [
    "images_cod = pd.read_csv(\"data/point_class.csv\")\n",
    "pixels = 1500\n",
    "categories = [\"high\",\"middle\",\"low\"] \n",
    "category = \"low\"\n",
    "\n",
    "z = 0\n",
    "categorieslist = []\n",
    "\n",
    "for category in categories:\n",
    "    sub_data = images_cod[images_cod.category == category]\n",
    "    #print(sub_data)\n",
    "    for i in range(sub_data.shape[0]):\n",
    "        xa_data = find_file(category=category,num_times= sub_data.times_number.get_values()[i], img= sub_data.image.get_values()[i], date=sub_data.date.get_values()[i],  pixels=pixels, input_source=\"D:/OneDrive - Universidad Nacional de Colombia/MScPhil/_scripts/extract_data\")\n",
    "        print(xa_data.attrs['name_region'])\n",
    "        categorieslist.append(xa_data)\n"
   ]
  },
  {
   "cell_type": "markdown",
   "metadata": {},
   "source": [
    "## Unsupervised Classification"
   ]
  },
  {
   "cell_type": "code",
   "execution_count": 4,
   "metadata": {},
   "outputs": [],
   "source": [
    "features = ['blue', 'green', 'red', 'nir', 'vre_1', 'vre_2', 'vre_3', 'swir1', 'swir2', 'narrow_nir']"
   ]
  },
  {
   "cell_type": "code",
   "execution_count": 5,
   "metadata": {},
   "outputs": [
    {
     "name": "stdout",
     "output_type": "stream",
     "text": [
      "   blue  green  red  nir  vre_1  vre_2  vre_3  swir1  swir2  narrow_nir\n",
      "0   NaN    NaN  NaN  NaN    NaN    NaN    NaN    NaN    NaN         NaN\n",
      "1   NaN    NaN  NaN  NaN    NaN    NaN    NaN    NaN    NaN         NaN\n",
      "2   NaN    NaN  NaN  NaN    NaN    NaN    NaN    NaN    NaN         NaN\n",
      "3   NaN    NaN  NaN  NaN    NaN    NaN    NaN    NaN    NaN         NaN\n",
      "4   NaN    NaN  NaN  NaN    NaN    NaN    NaN    NaN    NaN         NaN\n"
     ]
    }
   ],
   "source": [
    "datatomerge = [categorieslist[i][features[0]].data.ravel().tolist() for i in range(len(categorieslist))]\n",
    "data_band = list(itertools.chain(*datatomerge))\n",
    "\n",
    "\n",
    "data_bands = pd.DataFrame({features[0] : data_band})\n",
    "\n",
    "for feature in features:\n",
    "    datatomerge = [categorieslist[i][feature].data.ravel().tolist() for i in range(len(categorieslist))]\n",
    "    data_band = list(itertools.chain(*datatomerge))\n",
    "    data_bands[feature] = data_band\n",
    "    \n",
    "   \n",
    "print(data_bands.head())"
   ]
  },
  {
   "cell_type": "markdown",
   "metadata": {},
   "source": [
    "### get numpy data for robust scalar "
   ]
  },
  {
   "cell_type": "code",
   "execution_count": 6,
   "metadata": {},
   "outputs": [
    {
     "data": {
      "text/plain": [
       "(7591, 10)"
      ]
     },
     "execution_count": 6,
     "metadata": {},
     "output_type": "execute_result"
    },
    {
     "data": {
      "image/png": "[encoded data removed]",
      "text/plain": [
       "<Figure size 432x288 with 12 Axes>"
      ]
     },
     "metadata": {},
     "output_type": "display_data"
    }
   ],
   "source": [
    "data_bands_without_na = data_bands[np.logical_not(pd.isnull(data_bands).any(axis=1))]\n",
    "\n",
    "data_bands_without_na.hist()\n",
    "data_bands_without_na.shape"
   ]
  },
  {
   "cell_type": "code",
   "execution_count": 7,
   "metadata": {},
   "outputs": [
    {
     "data": {
      "image/png": "[encoded data removed]",
      "text/plain": [
       "<Figure size 432x288 with 1 Axes>"
      ]
     },
     "metadata": {},
     "output_type": "display_data"
    }
   ],
   "source": [
    "from sklearn.preprocessing import RobustScaler\n",
    "\n",
    "scaled_data = RobustScaler(quantile_range=(25, 75)).fit_transform(data_bands_without_na)\n",
    "plt.hist(scaled_data)\n",
    "plt.show()"
   ]
  },
  {
   "cell_type": "markdown",
   "metadata": {},
   "source": [
    "### calculate PCA"
   ]
  },
  {
   "cell_type": "code",
   "execution_count": null,
   "metadata": {},
   "outputs": [],
   "source": [
    "from sklearn.decomposition import PCA\n",
    "\n",
    "pcamodel= PCA(.9)\n",
    "\n",
    "principalComponents = pcamodel.fit_transform(scaled_data)\n",
    "principalComponents = pd.DataFrame(data = principalComponents, columns= ['pc1', 'pc2'])\n",
    "principalComponents.shape\n"
   ]
  },
  {
   "cell_type": "markdown",
   "metadata": {},
   "source": [
    "### unsupervised Classification: k-means\n"
   ]
  },
  {
   "cell_type": "code",
   "execution_count": 9,
   "metadata": {},
   "outputs": [
    {
     "name": "stdout",
     "output_type": "stream",
     "text": [
      "831\n"
     ]
    },
    {
     "data": {
      "text/plain": [
       "array([[<matplotlib.axes._subplots.AxesSubplot object at 0x000001FEDC974978>]],\n",
       "      dtype=object)"
      ]
     },
     "execution_count": 9,
     "metadata": {},
     "output_type": "execute_result"
    },
    {
     "data": {
      "image/png": "[encoded data removed]",
      "text/plain": [
       "<Figure size 432x288 with 1 Axes>"
      ]
     },
     "metadata": {},
     "output_type": "display_data"
    }
   ],
   "source": [
    "from sklearn.cluster import KMeans\n",
    "numClust = 20\n",
    "kmeans = KMeans(n_clusters=numClust, random_state=0).fit(scaled_data)\n",
    "\n",
    "len(kmeans.labels_)\n",
    "flat_list = np.full(data_bands.shape[0], -1)\n",
    "\n",
    "data_target = pd.DataFrame({'target' : flat_list})\n",
    "print(kmeans.labels_.ravel().tolist().count(0))\n",
    "data_target.loc[data_bands_without_na.index, 'target'] = kmeans.labels_\n",
    "\n",
    "data_target[data_target.target==0] = numClust+1\n",
    "\n",
    "data_target.hist()"
   ]
  },
  {
   "cell_type": "code",
   "execution_count": null,
   "metadata": {},
   "outputs": [],
   "source": []
  },
  {
   "cell_type": "code",
   "execution_count": 10,
   "metadata": {},
   "outputs": [
    {
     "data": {
      "image/png": "[encoded data removed]",
      "text/plain": [
       "<Figure size 432x288 with 15 Axes>"
      ]
     },
     "metadata": {},
     "output_type": "display_data"
    }
   ],
   "source": [
    "i = 2\n",
    "sav_img = []\n",
    "longeach = [len(length.x.values) * len(length.y.values) for length in categorieslist]\n",
    "for i in range(len(categorieslist)):\n",
    "    xtest = categorieslist[i]\n",
    "\n",
    "\n",
    "    ny, nx = len(xtest['y']), len(xtest['x'])\n",
    "    x, y = np.meshgrid(xtest['x'], xtest['y'])\n",
    "    numpy_coords_long = np.asarray(x).reshape((ny, nx))\n",
    "    numpy_coords_lat = np.asarray(y).reshape((ny, nx))\n",
    "\n",
    "    dim_array = xtest.x.values.shape[0] * xtest.y.values.shape[0]\n",
    "    if i >0:\n",
    "        dataExport = data_target.loc[range(np.sum(longeach[:i]), np.sum(longeach[:i+1])), 'target'].values.reshape(xtest.coords.dims['y'],xtest.coords.dims['x'])\n",
    "    else:\n",
    "        dataExport = data_target.loc[range(0, np.sum(longeach[:i+1])), 'target'].values.reshape(xtest.coords.dims['y'],xtest.coords.dims['x'])\n",
    "\n",
    "    algo = xr.Dataset({'clust': (['y', 'x'], dataExport)})\n",
    "\n",
    "    y_set = np.sort(list(set(numpy_coords_lat.flatten().tolist())))\n",
    "    x_set = np.sort(list(set(numpy_coords_long.flatten().tolist())))\n",
    "    algo['y']= sorted(y_set,reverse=True)\n",
    "    algo['x']= x_set\n",
    "    sav_img.append(algo)\n",
    "    algo.clust.plot()\n",
    "\n",
    "    ## export tiff\n",
    "    crs_ = categorieslist[0].attrs['crs']\n",
    "    trans_data = xtest.attrs['tran']\n",
    "    transAff = affine.Affine(trans_data[1],trans_data[2],trans_data[0],\n",
    "        trans_data[4], trans_data[5], trans_data[3])    \n",
    "    \n",
    "    profile = {'transform': transAff,'driver': 'GTiff','crs': crs_[crs_.index(\"epsg:\"):], 'height': algo.clust.shape[0], 'width': algo.clust.shape[1], 'count': 1, 'dtype': rasterio.uint8}\n",
    "    with rasterio.open('temporal/img_ '+str(i)+'.tif', 'w', **profile) as dst:\n",
    "        \n",
    "        dst.write(dataExport.reshape(1,dataExport.shape[0], dataExport.shape[1]).astype(rasterio.uint8))\n",
    "        dst.close()\n",
    "    "
   ]
  },
  {
   "cell_type": "code",
   "execution_count": 11,
   "metadata": {},
   "outputs": [
    {
     "data": {
      "image/png": "[encoded data removed]",
      "text/plain": [
       "<Figure size 432x288 with 1 Axes>"
      ]
     },
     "metadata": {},
     "output_type": "display_data"
    }
   ],
   "source": [
    "raster1 = rasterio.open(\"temporal/img_ 2.tif\")\n",
    "raster2 = rasterio.open(\"temporal/img_ 1.tif\")\n",
    "from rasterio.merge import merge\n",
    "\n",
    "from rasterio.plot import show\n",
    "listimgs= []\n",
    "for i in range(len(categorieslist)):\n",
    "    raster_test = rasterio.open('temporal/img_ '+str(i)+'.tif')\n",
    "    listimgs.append(raster_test)\n",
    "\n",
    "\n",
    "\n",
    "mosaic, out_trans = merge(listimgs)\n",
    "show(mosaic, cmap='terrain') \n",
    "out_meta = raster_test.meta.copy()\n",
    "\n",
    "# Update the metadata\n",
    "out_meta.update({\"driver\": \"GTiff\", \"height\": mosaic.shape[1], \"width\": mosaic.shape[2], \"transform\": out_trans} )\n",
    "\n",
    "with rasterio.open('temporal/img_todowitouthpca_20.tif', 'w', **out_meta) as dst:\n",
    "        dst.write(mosaic)\n",
    "        \n"
   ]
  },
  {
   "cell_type": "code",
   "execution_count": null,
   "metadata": {},
   "outputs": [],
   "source": [
    "raster_test.close()"
   ]
  },
  {
   "cell_type": "code",
   "execution_count": null,
   "metadata": {},
   "outputs": [],
   "source": [
    "i = 2\n",
    "xtest = categorieslist[i]\n",
    "\n",
    "\n",
    "\n",
    "ny, nx = len(xtest['y']), len(xtest['x'])\n",
    "x, y = np.meshgrid(xtest['x'], xtest['y'])\n",
    "numpy_coords_long = np.asarray(x).reshape((ny, nx))\n",
    "numpy_coords_lat = np.asarray(y).reshape((ny, nx))\n",
    "\n",
    "dim_array = xtest.x.values.shape[0] * xtest.y.values.shape[0]\n",
    "if i >0:\n",
    "    dataExport = data_target.loc[range(np.sum(longeach[:i]), np.sum(longeach[:i+1])), 'target'].values.reshape(xtest.coords.dims['y'],xtest.coords.dims['x'])\n",
    "else:\n",
    "    dataExport = data_target.loc[range(0, np.sum(longeach[:i+1])), 'target'].values.reshape(xtest.coords.dims['y'],xtest.coords.dims['x'])\n",
    "\n",
    "algo = xr.Dataset({'clust': (['y', 'x'], dataExport)})\n",
    "\n",
    "y_set = np.sort(list(set(numpy_coords_lat.flatten().tolist())))\n",
    "x_set = np.sort(list(set(numpy_coords_long.flatten().tolist())))\n",
    "algo['y']= sorted(y_set,reverse=True)\n",
    "algo['x']= x_set\n",
    "sav_img.append(algo)\n",
    "algo.clust.plot()\n",
    "\n",
    "## export tiff\n",
    "crs_ = categorieslist[0].attrs['crs']\n",
    "trans_data = list(xtest.attrs.values())[0]\n",
    "transAff = affine.Affine(trans_data[1],trans_data[2],trans_data[0],\n",
    "        trans_data[4], trans_data[5], trans_data[3])\n",
    "print(transAff)\n",
    "profile = {'transform': transAff,'driver': 'GTiff','crs': crs_[crs_.index(\"epsg:\"):], 'height': algo.clust.shape[0], 'width': algo.clust.shape[1], 'count': 1, 'dtype': rasterio.uint8}\n"
   ]
  },
  {
   "cell_type": "code",
   "execution_count": null,
   "metadata": {},
   "outputs": [],
   "source": [
    "import rasterio\n",
    "\n",
    "rasterTest = rasterio.open(\"D:/OneDrive - Universidad Nacional de Colombia/MScPhil/_scripts/extract_data/clipped_images/S2_L2A_20170901_tol_puri_platonal_parc 1_2017.tif\")\n",
    "\n",
    "trans = (rasterTest.transform)\n",
    "print((trans))\n",
    "print(np.min([np.min(categorieslist[i].x.values) for i in range(len(categorieslist))]))\n",
    "print(np.max([np.max(categorieslist[i].y.values) for i in range(len(categorieslist))]))\n",
    "print(xtest.y.values)\n",
    "print(xtest.x.values)\n",
    "\n",
    "print(np.max([np.max(categorieslist[i].x.values) for i in range(len(categorieslist))]))\n",
    "print(np.min([np.min(categorieslist[i].y.values) for i in range(len(categorieslist))]))\n",
    "\n",
    "profile = rasterTest.profile\n",
    "x = 2879\n",
    "y = 12432\n",
    "profile.update(\n",
    "        dtype=rasterio.uint8,\n",
    "        count=1)\n",
    "dataExport = data_target.loc[range(np.sum(longeach[:i]), np.sum(longeach[:i+1])), 'target'].values.reshape(xtest.coords.dims['y'],xtest.coords.dims['x'])\n",
    "\n",
    "# with rasterio.open('example2.tif', 'w', **profile) as dst:\n",
    "#     dst.write(dataExport.astype(rasterio.uint8), 1)"
   ]
  },
  {
   "cell_type": "code",
   "execution_count": null,
   "metadata": {},
   "outputs": [],
   "source": [
    "testdf = []\n",
    "\n",
    "for i in range(len(categorieslist)):\n",
    "    testdf.append(categorieslist[i]['nir'])\n",
    "    example = categorieslist[i]['nir']\n",
    "    categorieslist[i]['nir'].to_netcdf('nir_'+str(i)+'.nc')\n",
    "    merge2 = xr.merge(testdf)\n",
    "\n",
    "merge3 = xr.merge(testdf)\n",
    "ny, nx = len(merge3['y']), len(merge3['x'])\n",
    "x, y = np.meshgrid(merge3['x'], merge3['y'])\n",
    "print(example.attrs['transform'])\n",
    "x = np.asarray(x).reshape((ny, nx))\n",
    "y = np.asarray(y).reshape((ny, nx))\n",
    "merge3.to_netcdf('asdasd2113.nc')\n",
    "# lon, lat = transform.TransformMethodsMixin(x.flatten(), y.flatten())\n",
    "# print(lon)\n",
    "# print(merge3.coords['x'])\n",
    "# # Rasterio works with 1D arrays\n",
    "# merge3.coords['x'] = (('y', 'x'), x)\n",
    "# merge3.coords['y'] = (('y', 'x'), y)\n",
    "\n",
    "# print(y)"
   ]
  },
  {
   "cell_type": "code",
   "execution_count": null,
   "metadata": {},
   "outputs": [],
   "source": [
    "import cartopy.crs as ccrs\n",
    "\n",
    "\n",
    "#datatomerge = [categorieslist[i][features[0]].data.ravel().tolist() for i in range(len(categorieslist))]\n",
    "xtest = categorieslist[0]\n",
    "dim_array = xtest.x.values.shape[0] * xtest.y.values.shape[0]\n",
    "\n",
    "ny, nx = len(xtest['y']), len(xtest['x'])\n",
    "x, y = np.meshgrid(xtest['x'], xtest['y'])\n",
    "numpy_coords_long = np.asarray(x).reshape((ny, nx))\n",
    "numpy_coords_lat = np.asarray(y).reshape((ny, nx))\n",
    "\n",
    "data_clust = (data_target.loc[range(dim_array), 'target'].values.reshape(xtest.coords.dims['y'],xtest.coords.dims['x']))\n",
    "algo = xr.Dataset({'temperature': (['y', 'x'], data_clust)},\n",
    "                        )\n",
    "print(list(set(numpy_coords_lat.flatten().tolist())))\n",
    "algo = algo['temperature'].reset_coords(drop=True)\n",
    "\n",
    "y_set = np.sort(list(set(numpy_coords_lat.flatten().tolist())))\n",
    "algo['y']= sorted(y_set,reverse=True)\n",
    "algo['x']= np.sort(list(set(numpy_coords_long.flatten().tolist())))\n",
    "print(sorted(y_set,reverse=True) )   \n",
    "\n",
    "algo.plot()\n",
    "#algo.to_netcdf('test9.nc')"
   ]
  },
  {
   "cell_type": "code",
   "execution_count": null,
   "metadata": {},
   "outputs": [],
   "source": [
    "finalDf = pd.concat([principalComponents, data_target_without_na], axis = 1)\n",
    "print(finalDf.head())\n",
    "fig = plt.figure(figsize = (8,8))\n",
    "ax = fig.add_subplot(1,1,1) \n",
    "ax.set_xlabel('Principal Component 1', fontsize = 15)\n",
    "ax.set_ylabel('Principal Component 2', fontsize = 15)\n",
    "ax.set_title('2 component PCA', fontsize = 20)\n",
    "targets = ['Iris-setosa', 'Iris-versicolor', 'Iris-virginica']\n",
    "colors = ['r', 'g', 'b']\n",
    "for target, color in zip(targets,colors):\n",
    "    indicesToKeep = finalDf['target'] == target\n",
    "    ax.scatter(finalDf.loc[indicesToKeep, 'pc1']\n",
    "               , finalDf.loc[indicesToKeep, 'pc2']\n",
    "               , c = color\n",
    "               , s = 50)\n",
    "ax.legend(targets)\n",
    "ax.grid()"
   ]
  }
 ],
 "metadata": {
  "kernelspec": {
   "display_name": "Python 3",
   "language": "python",
   "name": "python3"
  },
  "language_info": {
   "codemirror_mode": {
    "name": "ipython",
    "version": 3
   },
   "file_extension": ".py",
   "mimetype": "text/x-python",
   "name": "python",
   "nbconvert_exporter": "python",
   "pygments_lexer": "ipython3",
   "version": "3.6.5"
  }
 },
 "nbformat": 4,
 "nbformat_minor": 2
}
